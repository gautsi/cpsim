{
 "cells": [
  {
   "cell_type": "code",
   "execution_count": 205,
   "metadata": {
    "collapsed": false
   },
   "outputs": [],
   "source": [
    "%matplotlib inline\n",
    "import numpy as np\n",
    "import matplotlib.pyplot as plt\n",
    "import pandas as pd\n",
    "import seaborn as sns"
   ]
  },
  {
   "cell_type": "code",
   "execution_count": 206,
   "metadata": {
    "collapsed": true
   },
   "outputs": [],
   "source": [
    "# defining my simulation constants\n",
    "paycheck_norm = 4200\n",
    "paycheck_std = 1000"
   ]
  },
  {
   "cell_type": "code",
   "execution_count": 207,
   "metadata": {
    "collapsed": false
   },
   "outputs": [],
   "source": [
    "# a regular transaction, for example a paycheck, electric bill or coffee\n",
    "class RegTrans(object):\n",
    "    def __init__(self, norm=-20, std=-2, period='weekly', date='random', time='random', desc='coffee'):\n",
    "        self.amount = round(np.random.normal(loc=norm, scale=std), 2)\n",
    "        self.period = period\n",
    "        self.desc = desc\n",
    "        if date == 'random':\n",
    "            if self.period == 'monthly':\n",
    "                self.date = np.random.randint(1,28)\n",
    "            if self.period == 'weekly':\n",
    "                self.date = np.random.randint(1,7)\n",
    "                "
   ]
  },
  {
   "cell_type": "code",
   "execution_count": 208,
   "metadata": {
    "collapsed": false
   },
   "outputs": [],
   "source": [
    "# paycheck as a regular transaction\n",
    "class Paycheck(RegTrans):\n",
    "    def __init__(self):\n",
    "        RegTrans.__init__(self, norm=paycheck_norm, std=paycheck_std, period='monthly', date='random', desc='paycheck')"
   ]
  },
  {
   "cell_type": "code",
   "execution_count": 218,
   "metadata": {
    "collapsed": false
   },
   "outputs": [],
   "source": [
    "# elec bill as a regular transaction\n",
    "class ElecBill(RegTrans):\n",
    "    def __init__(self):\n",
    "        RegTrans.__init__(self, norm=-100, std=10, period='monthly', date='random', desc='elec_bill')"
   ]
  },
  {
   "cell_type": "code",
   "execution_count": 219,
   "metadata": {
    "collapsed": false
   },
   "outputs": [],
   "source": [
    "# a user, with a paycheck, bills and other regular payments\n",
    "class User(object):\n",
    "    def __init__(self):\n",
    "        self.userid = np.random.randint(10**10) \n",
    "        self.paycheck = Paycheck()\n",
    "        self.elec_bill = ElecBill()\n",
    "        self.reg_trans = [self.paycheck, self.elec_bill]"
   ]
  },
  {
   "cell_type": "code",
   "execution_count": 220,
   "metadata": {
    "collapsed": true
   },
   "outputs": [],
   "source": [
    "# add a user's transactions to the DataFrame df\n",
    "def add_user(df):\n",
    "    user = User()\n",
    "    for year in xrange(2013, 2016):\n",
    "        for month in xrange(1, 12):\n",
    "            for reg_trans in user.reg_trans:\n",
    "                if reg_trans.period == 'monthly':\n",
    "                    date = pd.datetime(year=year, month=month, day=reg_trans.date)\n",
    "                    df.loc[len(df)] = [user.userid, reg_trans.amount, date, reg_trans.desc]"
   ]
  },
  {
   "cell_type": "code",
   "execution_count": 221,
   "metadata": {
    "collapsed": true
   },
   "outputs": [],
   "source": [
    "# define an empty DataFrame\n",
    "trans = pd.DataFrame(columns=['userid', 'amount', 'date', 'desc'])"
   ]
  },
  {
   "cell_type": "code",
   "execution_count": 224,
   "metadata": {
    "collapsed": false
   },
   "outputs": [],
   "source": [
    "# add 50 users to the DataFrame\n",
    "for i in xrange(50):\n",
    "    add_user(trans)"
   ]
  },
  {
   "cell_type": "code",
   "execution_count": 225,
   "metadata": {
    "collapsed": false
   },
   "outputs": [
    {
     "data": {
      "text/plain": [
       "9900"
      ]
     },
     "execution_count": 225,
     "metadata": {},
     "output_type": "execute_result"
    }
   ],
   "source": [
    "len(trans)"
   ]
  },
  {
   "cell_type": "code",
   "execution_count": 226,
   "metadata": {
    "collapsed": false
   },
   "outputs": [
    {
     "data": {
      "text/html": [
       "<div>\n",
       "<table border=\"1\" class=\"dataframe\">\n",
       "  <thead>\n",
       "    <tr style=\"text-align: right;\">\n",
       "      <th></th>\n",
       "      <th>userid</th>\n",
       "      <th>amount</th>\n",
       "      <th>date</th>\n",
       "      <th>desc</th>\n",
       "    </tr>\n",
       "  </thead>\n",
       "  <tbody>\n",
       "    <tr>\n",
       "      <th>0</th>\n",
       "      <td>4140899731</td>\n",
       "      <td>4774.22</td>\n",
       "      <td>2013-01-12</td>\n",
       "      <td>paycheck</td>\n",
       "    </tr>\n",
       "    <tr>\n",
       "      <th>1</th>\n",
       "      <td>4140899731</td>\n",
       "      <td>-122.77</td>\n",
       "      <td>2013-01-25</td>\n",
       "      <td>elec_bill</td>\n",
       "    </tr>\n",
       "    <tr>\n",
       "      <th>2</th>\n",
       "      <td>4140899731</td>\n",
       "      <td>4774.22</td>\n",
       "      <td>2013-02-12</td>\n",
       "      <td>paycheck</td>\n",
       "    </tr>\n",
       "    <tr>\n",
       "      <th>3</th>\n",
       "      <td>4140899731</td>\n",
       "      <td>-122.77</td>\n",
       "      <td>2013-02-25</td>\n",
       "      <td>elec_bill</td>\n",
       "    </tr>\n",
       "    <tr>\n",
       "      <th>4</th>\n",
       "      <td>4140899731</td>\n",
       "      <td>4774.22</td>\n",
       "      <td>2013-03-12</td>\n",
       "      <td>paycheck</td>\n",
       "    </tr>\n",
       "  </tbody>\n",
       "</table>\n",
       "</div>"
      ],
      "text/plain": [
       "       userid   amount       date       desc\n",
       "0  4140899731  4774.22 2013-01-12   paycheck\n",
       "1  4140899731  -122.77 2013-01-25  elec_bill\n",
       "2  4140899731  4774.22 2013-02-12   paycheck\n",
       "3  4140899731  -122.77 2013-02-25  elec_bill\n",
       "4  4140899731  4774.22 2013-03-12   paycheck"
      ]
     },
     "execution_count": 226,
     "metadata": {},
     "output_type": "execute_result"
    }
   ],
   "source": [
    "trans.head()"
   ]
  },
  {
   "cell_type": "code",
   "execution_count": 229,
   "metadata": {
    "collapsed": false
   },
   "outputs": [
    {
     "data": {
      "text/plain": [
       "<matplotlib.axes._subplots.AxesSubplot at 0x7f46af1e6850>"
      ]
     },
     "execution_count": 229,
     "metadata": {},
     "output_type": "execute_result"
    },
    {
     "data": {
      "image/png": "[encoded data removed]",
      "text/plain": [
       "<matplotlib.figure.Figure at 0x7f46af668c10>"
      ]
     },
     "metadata": {},
     "output_type": "display_data"
    }
   ],
   "source": [
    "paychecks = trans[trans.desc == 'elec_bill'].groupby(trans.userid).mean().amount\n",
    "paychecks.hist(bins=20)"
   ]
  },
  {
   "cell_type": "code",
   "execution_count": null,
   "metadata": {
    "collapsed": false
   },
   "outputs": [],
   "source": []
  },
  {
   "cell_type": "code",
   "execution_count": null,
   "metadata": {
    "collapsed": false
   },
   "outputs": [],
   "source": []
  },
  {
   "cell_type": "code",
   "execution_count": null,
   "metadata": {
    "collapsed": false
   },
   "outputs": [],
   "source": []
  },
  {
   "cell_type": "code",
   "execution_count": null,
   "metadata": {
    "collapsed": true
   },
   "outputs": [],
   "source": []
  }
 ],
 "metadata": {
  "kernelspec": {
   "display_name": "Python 2",
   "language": "python",
   "name": "python2"
  },
  "language_info": {
   "codemirror_mode": {
    "name": "ipython",
    "version": 2
   },
   "file_extension": ".py",
   "mimetype": "text/x-python",
   "name": "python",
   "nbconvert_exporter": "python",
   "pygments_lexer": "ipython2",
   "version": "2.7.6"
  }
 },
 "nbformat": 4,
 "nbformat_minor": 0
}
